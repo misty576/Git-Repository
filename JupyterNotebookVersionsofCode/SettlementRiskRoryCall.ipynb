{
 "cells": [
  {
   "cell_type": "markdown",
   "metadata": {},
   "source": [
    "## Main Notebook: Strategies Investigation for **Settlement Risk**\n",
    "\n",
    "### Overview\n",
    "\n",
    "This notebook analyses the exposure and performance of the strategies for settlement risk"
   ]
  },
  {
   "cell_type": "markdown",
   "metadata": {},
   "source": [
    "---\n",
    "### **SETUP:** Define all the programs we will use\n",
    "--- "
   ]
  },
  {
   "cell_type": "markdown",
   "metadata": {},
   "source": [
    "#### **Step 1**: Import Modules\n",
    "---"
   ]
  },
  {
   "cell_type": "code",
   "execution_count": 7,
   "metadata": {},
   "outputs": [],
   "source": [
    "import numpy as np\n",
    "import random\n",
    "import matplotlib.pyplot as plt\n",
    "import math\n",
    "import ipywidgets as widgets\n",
    "from ipywidgets import interact, interactive, fixed, interact_manual"
   ]
  },
  {
   "cell_type": "markdown",
   "metadata": {},
   "source": [
    "#### **Step 2**: Build the Baseline and Transactions (Impacts) that we will use\n",
    "---"
   ]
  },
  {
   "cell_type": "code",
   "execution_count": 8,
   "metadata": {},
   "outputs": [],
   "source": [
    "\n",
    "# Columns correspond to CURRENCIES\n",
    "# Column 1: USD\n",
    "# Column 2: GBP\n",
    "# Column 3: EUR\n",
    "# Column 4: AUD\n",
    "# Column 5: JPY\n",
    "\n",
    "def get_baseline_positions(n):\n",
    "\n",
    "    baseline = np.zeros((1,5))\n",
    "\n",
    "\n",
    "    baseline[0][0] = 100\n",
    "    baseline[0][1] = 100\n",
    "    baseline[0][2] = 50\n",
    "    baseline[0][3] = 50\n",
    "    baseline[0][4] = 200\n",
    "\n",
    "\n",
    "    '''\n",
    "    baseline[0][0] = 100\n",
    "    baseline[0][1] = -100\n",
    "    baseline[0][2] = 50\n",
    "    baseline[0][3] = -50\n",
    "    baseline[0][4] = 20\n",
    "    '''\n",
    "\n",
    "    '''\n",
    "    baseline[0][0]  = random.randint(-100,-50)\n",
    "    baseline[0][1] = -baseline[0][0]\n",
    "    baseline[0][2] = random.randint(50,100)\n",
    "    baseline[0][3] = -baseline[0][2]\n",
    "    baseline[0][4] = random.randint(-100,100)\n",
    "    '''\n",
    "\n",
    "    #print(\"Initial Baseline\", baseline)\n",
    "\n",
    "\n",
    "    # there are C(5,2) = 5!/(5-2)!(2!) = 10 unique pairs for the exchange rates\n",
    "\n",
    "    '''\n",
    "    exchange_rate_1_2 = 0.9\n",
    "    exchange_rate_1_3 = 1.1\n",
    "    exchange_rate_1_4 = 0.8\n",
    "    exchange_rate_1_5 = 1.2\n",
    "\n",
    "    exchange_rate_2_3 = 0.75\n",
    "    exchange_rate_2_4 = 1.25\n",
    "    exchange_rate_2_5 = 0.85\n",
    "\n",
    "    exchange_rate_3_4 = 1.3\n",
    "    exchange_rate_3_5 = 0.6\n",
    "\n",
    "    exchange_rate_4_5 = 1.4\n",
    "\n",
    "    '''\n",
    "    exchange_rate_1_2 = 2\n",
    "    exchange_rate_1_3 = 0.5\n",
    "    exchange_rate_1_4 = 1.5\n",
    "    exchange_rate_1_5 = 3\n",
    "\n",
    "    exchange_rate_2_3 = 0.5\n",
    "    exchange_rate_2_4 = 1.25\n",
    "    exchange_rate_2_5 = 0.75\n",
    "\n",
    "    exchange_rate_3_4 = 2\n",
    "    exchange_rate_3_5 = 0.5\n",
    "\n",
    "    exchange_rate_4_5 = 1.5\n",
    "    \n",
    "    exchange_rates = np.zeros((5,5))\n",
    "\n",
    "    for i in range(exchange_rates.shape[0]):\n",
    "        for j in range(exchange_rates.shape[1]):\n",
    "            \n",
    "            if i == j:\n",
    "                exchange_rates[i][j] = 1  # Set diagonal to 1 (since the exchange rate to itself is 1)\n",
    "            else:\n",
    "                # Assign the exchange rates based on (i,j) index\n",
    "                if i == 0 and j == 1:\n",
    "                    exchange_rates[i][j] = exchange_rate_1_2\n",
    "                elif i == 0 and j == 2:\n",
    "                    exchange_rates[i][j] = exchange_rate_1_3\n",
    "                elif i == 0 and j == 3:\n",
    "                    exchange_rates[i][j] = exchange_rate_1_4\n",
    "                elif i == 0 and j == 4:\n",
    "                    exchange_rates[i][j] = exchange_rate_1_5\n",
    "                elif i == 1 and j == 2:\n",
    "                    exchange_rates[i][j] = exchange_rate_2_3\n",
    "                elif i == 1 and j == 3:\n",
    "                    exchange_rates[i][j] = exchange_rate_2_4\n",
    "                elif i == 1 and j == 4:\n",
    "                    exchange_rates[i][j] = exchange_rate_2_5\n",
    "                elif i == 2 and j == 3:\n",
    "                    exchange_rates[i][j] = exchange_rate_3_4\n",
    "                elif i == 2 and j == 4:\n",
    "                    exchange_rates[i][j] = exchange_rate_3_5\n",
    "                elif i == 3 and j == 4:\n",
    "                    exchange_rates[i][j] = exchange_rate_4_5\n",
    "                else:\n",
    "                    # For reverse exchange rates (j to i), set as reciprocal\n",
    "                    exchange_rates[i][j] = 1 / exchange_rates[j][i]\n",
    "        \n",
    "\n",
    "    transactions = np.zeros((n,5))\n",
    "\n",
    "    for i in range(n):\n",
    "\n",
    "        currency = random.randint(0,4)\n",
    "        remaining_numbers = [x for x in range(5) if x!= currency]\n",
    "        counter_currency = random.choice(remaining_numbers)\n",
    "\n",
    "        buy_or_sell = random.randint(0,1)\n",
    "\n",
    "        if buy_or_sell == 0:\n",
    "            transactions[i,currency] = random.randint(5,10)\n",
    "            transactions[i, counter_currency] = -transactions[i,currency]*exchange_rates[currency][counter_currency]\n",
    "        elif buy_or_sell == 1:\n",
    "            transactions[i,currency] = random.randint(-10,-5)\n",
    "            transactions[i, counter_currency] = transactions[i,currency]*exchange_rates[currency][counter_currency]*(-1)\n",
    "\n",
    "\n",
    "    positions = np.vstack([baseline, transactions])\n",
    "\n",
    "    #print(positions)\n",
    "\n",
    "    return positions"
   ]
  },
  {
   "cell_type": "markdown",
   "metadata": {},
   "source": [
    "#### **Step 3**: Define Settlement Risk function\n",
    "---"
   ]
  },
  {
   "cell_type": "code",
   "execution_count": 9,
   "metadata": {},
   "outputs": [],
   "source": [
    "def SettlementRisk(position):\n",
    "    return np.sum(np.maximum(0,position))"
   ]
  },
  {
   "cell_type": "markdown",
   "metadata": {},
   "source": [
    "#### **Step 4:** Define our strategies\n",
    "---"
   ]
  },
  {
   "cell_type": "code",
   "execution_count": 10,
   "metadata": {},
   "outputs": [],
   "source": [
    "def BruteForce(positions):\n",
    "\n",
    "    bf_list = []\n",
    "    total_position = np.zeros((1,5))\n",
    "    \n",
    "    \n",
    "    total_position = np.vstack([total_position, positions[0,:]])\n",
    "    total = SettlementRisk(total_position)\n",
    "    bf_list.append(total)\n",
    "\n",
    "    for i in range(positions.shape[0]-1):\n",
    "        total_position = np.vstack([total_position, positions[i+1,:]])\n",
    "\n",
    "        temp =  np.sum(total_position, axis=0)\n",
    "        total = SettlementRisk(temp)\n",
    "        bf_list.append(total)\n",
    "    \n",
    "    #total_position = np.sum(positions, axis=0)\n",
    "\n",
    "    return [SettlementRisk(total), bf_list]\n",
    "\n",
    "\n",
    "def Linearisation(positions):\n",
    "\n",
    "    lin_list = []\n",
    "    baseline = positions[0,:]\n",
    "\n",
    "    baseline_exposure = SettlementRisk(baseline)\n",
    "\n",
    "    total = baseline_exposure\n",
    "    lin_list.append(total)\n",
    "\n",
    "    for i in range(positions.shape[0]-1):\n",
    "        decoupled = np.vstack([baseline, positions[i+1,:]])\n",
    "        decoupled = np.sum(decoupled, axis=0)\n",
    "                \n",
    "        decoupled_exposure = SettlementRisk(decoupled)\n",
    "        total += decoupled_exposure - baseline_exposure\n",
    "        lin_list.append(total)\n",
    "\n",
    "    return [total, lin_list]\n",
    "\n",
    "def Conservative(positions):\n",
    "\n",
    "    total = 0\n",
    "    cons_list = []\n",
    "    for i in range(positions.shape[0]):\n",
    "\n",
    "        total += SettlementRisk(positions[i,:])\n",
    "        cons_list.append(total)\n",
    "\n",
    "    return [total, cons_list]\n",
    "\n",
    "def Averages(positions):\n",
    "    avg_list = []\n",
    "    baseline = positions[0,:]\n",
    "    n = positions.shape[0]-1\n",
    "    baseline_exposure = SettlementRisk(baseline)\n",
    "\n",
    "    total = baseline_exposure\n",
    "    avg_list.append(total)\n",
    "\n",
    "    for i in range(positions.shape[0]-1):\n",
    "\n",
    "        decoupled = np.vstack([baseline, positions[i+1,:]])\n",
    "        decoupled[1] *= n\n",
    "        decoupled = np.sum(decoupled, axis=0)\n",
    "        decoupled_exposure = SettlementRisk(decoupled)\n",
    "        total += 1/n*(decoupled_exposure - baseline_exposure)\n",
    "        avg_list.append(total)\n",
    "\n",
    "    return [total, avg_list]"
   ]
  },
  {
   "cell_type": "markdown",
   "metadata": {},
   "source": [
    "#### **Step 5:** Define the simulation function\n",
    "---"
   ]
  },
  {
   "cell_type": "code",
   "execution_count": 11,
   "metadata": {},
   "outputs": [
    {
     "data": {
      "image/png": "[encoded data removed]",
      "text/plain": [
       "<Figure size 640x480 with 1 Axes>"
      ]
     },
     "metadata": {},
     "output_type": "display_data"
    },
    {
     "data": {
      "image/png": "[encoded data removed]",
      "text/plain": [
       "<Figure size 640x480 with 1 Axes>"
      ]
     },
     "metadata": {},
     "output_type": "display_data"
    },
    {
     "name": "stdout",
     "output_type": "stream",
     "text": [
      "Largest percentage difference between BF and Lin:  0.0\n",
      "\n",
      "\n",
      "\n",
      "\n",
      "NOTE: Positive percentage implies linearisation is working correctly (overestimating)\n",
      "      Negative percentage implies linearisation is optimistic (underestimating exposure)\n"
     ]
    }
   ],
   "source": [
    "def sim(m):\n",
    "\n",
    "    data = get_baseline_positions(m)\n",
    "\n",
    "    \n",
    "    '''\n",
    "    data = np.array([[ 10., -10.,  5.,  -5.,  20. ],\n",
    "                    [ -5.,   0.,  2.5,  0.,   0.  ],\n",
    "                    [  7., -14.,  0.,   0.,   0.  ],\n",
    "                    [  0.,   0.,  6., -12.,  0.  ],\n",
    "                    [  0.,   0., 10.,  0.,  -5.  ],\n",
    "                    [  0.,   8.,  0., -10.,  0.  ]])\n",
    "    '''\n",
    "\n",
    "    [total_BF, bf_list] = BruteForce(data)\n",
    "    [total_Linearisation, lin_list] = Linearisation(data)\n",
    "    [total_Conservative, cons_list] = Conservative(data)\n",
    "    [total_Averages, avg_list] = Averages(data)\n",
    "\n",
    "    '''\n",
    "    print(\"Brute Force: \", total_BF)\n",
    "    print(\"\\n\")\n",
    "    print(\"Linearisation: \", total_Linearisation)\n",
    "    print(\"\\n\")\n",
    "    print(\"Conservative: \", total_Conservative)\n",
    "    print(\"\\n\")\n",
    "    print(\"Averages: \", total_Averages)\n",
    "    '''\n",
    "\n",
    "\n",
    "    x = np.linspace(0,m,m+1)\n",
    "\n",
    "    plt.figure()\n",
    "    plt.plot(x,bf_list, label=\"Brute Force (Batch)\", color= \"b\")\n",
    "    plt.plot(x,lin_list, label=\"Linearisation\", color= \"g\")\n",
    "    plt.plot(x,avg_list, label=\"Averages\", color= \"y\")\n",
    "    plt.plot(x,cons_list, label=\"Conservative\", color= \"r\")\n",
    "    plt.legend()\n",
    "    plt.grid(True)\n",
    "    plt.xlabel(\"Trade Number\")\n",
    "    plt.ylabel(\"Exposure (Settlement Risk)\")\n",
    "    plt.show()\n",
    "\n",
    "\n",
    "    diff_lin_bf = [(lin_list[i] - bf_list[i])/bf_list[i]*100 for i in range(len(lin_list))]\n",
    "    min = np.min(diff_lin_bf)\n",
    "    max = np.max(diff_lin_bf)\n",
    "\n",
    "    plt.figure()\n",
    "\n",
    "    plt.plot(x, diff_lin_bf, color=\"r\")\n",
    "    plt.xlabel(\"Trade No.\")\n",
    "    plt.ylabel(\"Percentage Difference\")\n",
    "    plt.title(\"Percentage difference between Lin. and BF\")\n",
    "    plt.grid(True)\n",
    "    plt.show()\n",
    "\n",
    "    if abs(min) > abs(max):\n",
    "        print(\"Largest percentage difference between BF and Lin: \", min)\n",
    "    else:\n",
    "        print(\"Largest percentage difference between BF and Lin: \", max)\n",
    "\n",
    "    print(\"\\n\")\n",
    "    print(\"\\n\")\n",
    "    print(\"NOTE: Positive percentage implies linearisation is working correctly (overestimating)\")\n",
    "    print(\"      Negative percentage implies linearisation is optimistic (underestimating exposure)\")\n",
    "sim(10)"
   ]
  },
  {
   "cell_type": "markdown",
   "metadata": {},
   "source": [
    "#### **Step 6:** INTERACTIVE GRAPH\n",
    "---"
   ]
  },
  {
   "cell_type": "code",
   "execution_count": 12,
   "metadata": {},
   "outputs": [
    {
     "data": {
      "application/vnd.jupyter.widget-view+json": {
       "model_id": "9ef084f1db6c495aaed540c20e0e76ba",
       "version_major": 2,
       "version_minor": 0
      },
      "text/plain": [
       "interactive(children=(IntSlider(value=20, description='Total No. Trades'), Output()), _dom_classes=('widget-in…"
      ]
     },
     "metadata": {},
     "output_type": "display_data"
    },
    {
     "data": {
      "text/plain": [
       "<function __main__.sim(m)>"
      ]
     },
     "execution_count": 12,
     "metadata": {},
     "output_type": "execute_result"
    }
   ],
   "source": [
    "widgets.interact(sim,\n",
    "         m = widgets.IntSlider(min=0,max=100,step=1,value=20,description=\"Total No. Trades\"),\n",
    "         )"
   ]
  }
 ],
 "metadata": {
  "kernelspec": {
   "display_name": "Python 3",
   "language": "python",
   "name": "python3"
  },
  "language_info": {
   "codemirror_mode": {
    "name": "ipython",
    "version": 3
   },
   "file_extension": ".py",
   "mimetype": "text/x-python",
   "name": "python",
   "nbconvert_exporter": "python",
   "pygments_lexer": "ipython3",
   "version": "3.11.9"
  }
 },
 "nbformat": 4,
 "nbformat_minor": 2
}
