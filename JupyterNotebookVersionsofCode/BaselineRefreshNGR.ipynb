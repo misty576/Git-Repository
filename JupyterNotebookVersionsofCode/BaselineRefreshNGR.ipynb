{
 "cells": [
  {
   "cell_type": "markdown",
   "metadata": {},
   "source": [
    "# Baseline Refresh Code Example\n",
    "\n",
    "#### In this code we demonstrate the implementation of a **baseline refresh** for the different exposure methods"
   ]
  },
  {
   "cell_type": "markdown",
   "metadata": {},
   "source": [
    "#### **Step 1:** Import modules"
   ]
  },
  {
   "cell_type": "code",
   "execution_count": 250,
   "metadata": {},
   "outputs": [],
   "source": [
    "import numpy as np\n",
    "import random\n",
    "import matplotlib.pyplot as plt\n",
    "import math\n",
    "import ipywidgets as widgets\n",
    "from ipywidgets import interact, interactive, fixed, interact_manual, Layout\n",
    "import tkinter"
   ]
  },
  {
   "cell_type": "markdown",
   "metadata": {},
   "source": [
    "#### **Step 2:** Define the function for each strategy ( Brute Force, Linearisation, Conservative, Averages )\n",
    "\n",
    "**NOTE:** For a detailed explanation of the NGR approach for calculating PSR, refer to original notebook"
   ]
  },
  {
   "cell_type": "code",
   "execution_count": 251,
   "metadata": {},
   "outputs": [],
   "source": [
    "def PSR_NGR(positions, addonfactor, singleposition):\n",
    "\n",
    "    GrossExposure = 0\n",
    "    CurrentExposure = 0\n",
    "    NetExposure = 0\n",
    "    AddOn_Gross = 0\n",
    "\n",
    "    if singleposition == True:\n",
    "        GrossExposure += max(0, positions[0])\n",
    "        CurrentExposure += positions[0]\n",
    "        AddOn_Gross += addonfactor * positions[1]\n",
    "    else:\n",
    "        for i in range(len(positions)):\n",
    "            GrossExposure += max(0, positions[i,0])\n",
    "            CurrentExposure += positions[i,0]\n",
    "            AddOn_Gross += addonfactor * positions[i,1]\n",
    "\n",
    "    NetExposure = max(0, CurrentExposure)\n",
    "\n",
    "    if GrossExposure == 0:\n",
    "        NGR = 0\n",
    "    else:\n",
    "        NGR = NetExposure/GrossExposure\n",
    "    \n",
    "    PSR = max(0, CurrentExposure) + NGR * (0.6) * (AddOn_Gross) + (0.4) * (AddOn_Gross)\n",
    "\n",
    "    return PSR\n",
    "\n",
    "\n",
    "\n",
    "def PSR_Conservative(positions, addonfactor):\n",
    "\n",
    "    total_PSR_NGR = 0\n",
    "    singleposition = True\n",
    "\n",
    "    for i in range(len(positions)):\n",
    "        total_PSR_NGR += PSR_NGR(positions[i,:], addonfactor, singleposition)\n",
    "    \n",
    "    return total_PSR_NGR\n",
    "\n",
    "def PSR_Linear(positions, addonfactor):\n",
    "\n",
    "    total_PSR_NGR = 0\n",
    "\n",
    "    base_PSR_NGR = 0\n",
    "    singleposition = True\n",
    "    sample = positions[0,:]\n",
    "    base_PSR_NGR += PSR_NGR(sample, addonfactor, singleposition)\n",
    "    total_PSR_NGR = base_PSR_NGR\n",
    "\n",
    "    singleposition = False\n",
    "\n",
    "    for i in range(len(positions)-1):\n",
    "        total_PSR_NGR += (PSR_NGR(positions[[0,i+1], :], addonfactor, singleposition) - base_PSR_NGR)\n",
    "\n",
    "    return total_PSR_NGR\n",
    "\n",
    "\n",
    "def PSR_Average(positions, addonfactor, n):\n",
    "\n",
    "    total_PSR_NGR = 0\n",
    "    base_PSR_NGR = 0\n",
    "\n",
    "    singleposition = True\n",
    "    base_PSR_NGR += PSR_NGR(positions[0,:], addonfactor, singleposition)\n",
    "    total_PSR_NGR = base_PSR_NGR\n",
    "\n",
    "    singleposition = False\n",
    "\n",
    "    for i in range(len(positions)-1):\n",
    "\n",
    "        # take out the baseline position and the x_i position\n",
    "        trade_i = positions[[0,i+1], :]\n",
    "        \n",
    "        # multiply the i-th position by n - as it happens in the formula\n",
    "        trade_i[1,:] *= n\n",
    "\n",
    "        # multiply the formula by n\n",
    "        total_PSR_NGR += 1/n*(PSR_NGR(trade_i, addonfactor, singleposition) - base_PSR_NGR)\n",
    "\n",
    "\n",
    "    return total_PSR_NGR"
   ]
  },
  {
   "cell_type": "markdown",
   "metadata": {},
   "source": [
    "#### **Datasets for Testing + a Testing Function**"
   ]
  },
  {
   "cell_type": "code",
   "execution_count": 252,
   "metadata": {},
   "outputs": [],
   "source": [
    "\n",
    "'''\n",
    "positions = np.array([[10., 100.],\n",
    "        [2., 20.],\n",
    "        [-3., 30.],\n",
    "        [-1., 10.],\n",
    "        [-2., 20.],\n",
    "        [-3., 30.],\n",
    "        [0., 0.],\n",
    "        [-1., 10.],\n",
    "        [1., 10.],\n",
    "        [-1., 10.],\n",
    "        [3., 30.]])\n",
    "\n",
    "'''\n",
    "#baseline_position = [400, 2000]\n",
    "#mtm_notional_matrix = np.zeros((n,4))\n",
    "\n",
    "#mtm_notional_matrix[0,0] = 300\n",
    "#mtm_notional_matrix[1,0] = -400\n",
    "#mtm_notional_matrix[2,0] = 400\n",
    "#mtm_notional_matrix[3,0] = -400\n",
    "\n",
    "#mtm_notional_matrix[0,1] = 1000\n",
    "#mtm_notional_matrix[1,1] = 1000\n",
    "#mtm_notional_matrix[2,1] = 1000\n",
    "#mtm_notional_matrix[3,1] = 0\n",
    "\n",
    "def get_position_impacts_test(n=2):\n",
    "\n",
    "    baseline_position = [100,20]\n",
    "    mtm_notional_matrix = np.zeros((n,2))\n",
    "\n",
    "    mtm_notional_matrix[0,0] = -5\n",
    "    mtm_notional_matrix[1,0] = 10\n",
    "\n",
    "    mtm_notional_matrix[0,1] = 10\n",
    "    mtm_notional_matrix[1,1] = 30\n",
    "\n",
    "    positions = np.vstack([baseline_position, mtm_notional_matrix])\n",
    "    \n",
    "    print(\"Positions: \", positions)\n",
    "    \n",
    "    return positions"
   ]
  },
  {
   "cell_type": "markdown",
   "metadata": {},
   "source": [
    "#### **Step 3:** Generate the dataset ( baseline + positions )"
   ]
  },
  {
   "cell_type": "code",
   "execution_count": 253,
   "metadata": {},
   "outputs": [],
   "source": [
    "def get_position_impacts(n, baseline_mtm, baseline_notional, MtM_min, MtM_max):\n",
    "    \n",
    "    baseline_position = [baseline_mtm, baseline_notional]\n",
    "    mtm_notional_matrix = np.zeros((n,2))\n",
    "\n",
    "    for i in range(n):\n",
    "\n",
    "        mtm_notional_matrix[i,0] = random.randint(MtM_min, MtM_max)\n",
    "        mtm_notional_matrix[i,1] = abs(10*mtm_notional_matrix[i,0])\n",
    "    \n",
    "    positions = np.vstack([baseline_position, mtm_notional_matrix])\n",
    "\n",
    "    return positions\n",
    "\n",
    "position_impacts_state = {\"n\": 0, \"data\": None}\n",
    "\n",
    "# This function is used purely for the interactive graph: We might want to maintain the \n",
    "# same dataset for a given \"n\" trades whilst changing the other parameters (eg. addonfactor) around. \n",
    "# This function allows us to do that. \n",
    "def update_position_impacts(n, baseline_mtm, baseline_notional, MtM_min, MtM_max):\n",
    "    global position_impacts_state\n",
    "    if position_impacts_state[\"n\"] != n:\n",
    "        position_impacts_state[\"n\"] = n\n",
    "        position_impacts_state[\"data\"] = get_position_impacts(n, baseline_mtm, baseline_notional, MtM_min, MtM_max)"
   ]
  },
  {
   "cell_type": "code",
   "execution_count": 254,
   "metadata": {},
   "outputs": [],
   "source": [
    "def remove_decimal_places(my_list):\n",
    "    new_list = list(np.around(np.array(my_list), 6))\n",
    "    return new_list"
   ]
  },
  {
   "cell_type": "markdown",
   "metadata": {},
   "source": [
    "#### **Step 4:** Run the simulation function which calculate the exposure per trade, and performs a cyclic baseline refresh "
   ]
  },
  {
   "cell_type": "code",
   "execution_count": 255,
   "metadata": {},
   "outputs": [
    {
     "data": {
      "image/png": "[encoded data removed]",
      "text/plain": [
       "<Figure size 800x500 with 1 Axes>"
      ]
     },
     "metadata": {},
     "output_type": "display_data"
    }
   ],
   "source": [
    "def exposure_simulation(n,m, addonfactor, baseline_mtm, baseline_notional, MtM_min, MtM_max):   \n",
    "\n",
    "    # Randomly generate our dataset\n",
    "    # update_position_impacts(n, baseline_mtm, baseline_notional, MtM_min, MtM_max)\n",
    "    # positions = position_impacts_state[\"data\"]\n",
    "    \n",
    "    positions = get_position_impacts(n, baseline_mtm, baseline_notional, MtM_min, MtM_max)\n",
    "\n",
    "    singleposition = False\n",
    "\n",
    "    # Set up the following lists to store the exposures for each trade\n",
    "    bf_list = []\n",
    "    cons_list = []\n",
    "    lin_list = []\n",
    "    avg_list = []\n",
    "\n",
    "    # Add the initial exposure for the baseline trade\n",
    "    bf_list.append(PSR_NGR(np.array([positions[0,:]]), addonfactor, singleposition))\n",
    "    lin_list.append(PSR_NGR(np.array([positions[0,:]]), addonfactor, singleposition))\n",
    "    cons_list.append(PSR_NGR(np.array([positions[0,:]]), addonfactor, singleposition))\n",
    "    avg_list.append(PSR_NGR(np.array([positions[0,:]]), addonfactor, singleposition))\n",
    "\n",
    "\n",
    "    # We iterate through the list. Once we hit m trades, we update the baseline and repeat\n",
    "    for i in range(int(n/m)):\n",
    "        \n",
    "        cumulative_positions = np.zeros((0, 2))  # empty to start\n",
    "        cumulative_positions = np.vstack([cumulative_positions, positions[0, :]])\n",
    "\n",
    "        for j in range(m):\n",
    "            \n",
    "            # Add the next position to the cumulative set\n",
    "            cumulative_positions = np.vstack([cumulative_positions, positions[j+1 + m*i, :]])\n",
    "\n",
    "            # Perform the PSR calculations for each strategy\n",
    "            NGR_BF = PSR_NGR(cumulative_positions, addonfactor, singleposition)\n",
    "            NGR_Lin = PSR_Linear(cumulative_positions, addonfactor)\n",
    "            NGR_Cons = PSR_Conservative(cumulative_positions, addonfactor)\n",
    "            NGR_Avg = PSR_Average(cumulative_positions, addonfactor, m)\n",
    "\n",
    "            # Append results to respective lists\n",
    "            bf_list.append(NGR_BF)\n",
    "            lin_list.append(NGR_Lin)\n",
    "            cons_list.append(NGR_Cons)\n",
    "            avg_list.append(NGR_Avg)\n",
    "\n",
    "        # Re-calculate the baseline by adding in the processed impacts\n",
    "        mtmRefresh = np.sum(cumulative_positions[:,0])\n",
    "        notionalRefresh = np.sum(cumulative_positions[:,1])\n",
    "\n",
    "        # Update the first row (baseline)\n",
    "        positions[0,0] = max(0,mtmRefresh)\n",
    "        positions[0,1] = notionalRefresh\n",
    "\n",
    "        # Add this baseline calculation to the dataset\n",
    "        bf_list.append(PSR_NGR(np.array([positions[0,:]]), addonfactor, singleposition))\n",
    "        lin_list.append(PSR_NGR(np.array([positions[0,:]]), addonfactor, singleposition))\n",
    "        cons_list.append(PSR_NGR(np.array([positions[0,:]]), addonfactor, singleposition))\n",
    "        avg_list.append(PSR_NGR(np.array([positions[0,:]]), addonfactor, singleposition))\n",
    "\n",
    "    #print(remove_decimal_places(bf_list))\n",
    "\n",
    "    # POST-PROCESSING\n",
    "    # Below we plot our results\n",
    "    x = np.linspace(0, n+int(n/m), n+int(n/m)+1)\n",
    "\n",
    "\n",
    "\n",
    "    if n % m == 0:\n",
    "        \n",
    "        plt.figure(figsize=(8,5))\n",
    "        plt.grid(True)\n",
    "        plt.plot(x, bf_list, 'b', label = \"BF\")\n",
    "        plt.plot(x, cons_list, 'r', label = \"Conservative\")\n",
    "        plt.plot(x, lin_list, 'g', label = \"Linearisation\")\n",
    "        plt.plot(x, avg_list, 'y', label = \"Averages\")\n",
    "        plt.xlabel(\"Trade Number\")\n",
    "        plt.ylabel(\"Exposure\")\n",
    "\n",
    "        # We will add in vertical lines to indicate the points in the dataset when a refresh is carried out\n",
    "        for i in range(int(n/m)):\n",
    "\n",
    "            vline_x = (i+1)*(m+1)\n",
    "            ymin, ymax = plt.ylim()\n",
    "            plt.axvline(vline_x, color='k', linestyle='--')\n",
    "            vline_x2 = (i+1)*(m+1)-1\n",
    "            ymin2, ymax2 = plt.ylim()\n",
    "            plt.axvline(vline_x2, color='r', linestyle='--')\n",
    "            plt.text(vline_x, ymax + (ymax - ymin)*0.025, 'RF', ha=\"center\", va = \"bottom\", color=\"k\")\n",
    "            plt.text(vline_x2, ymax2 + (ymax2 - ymin2)*0.025, '↻', ha=\"center\", va = \"bottom\", color=\"r\")\n",
    "\n",
    "        vline_start = 0\n",
    "        ymin3, ymax3 = plt.ylim()\n",
    "        plt.axvline(vline_start, color='b', linestyle='--')\n",
    "        plt.text(vline_start, ymax3 + (ymax3 - ymin3)*0.025, 'Base', ha=\"center\", va = \"bottom\", color=\"b\")\n",
    "\n",
    "        plt.legend()\n",
    "        plt.show()\n",
    "\n",
    "        # Below we print our results\n",
    "        '''\n",
    "        print(\"Positions Matrix \\n\", positions)\n",
    "        \n",
    "        print(\"\\n\")\n",
    "        \n",
    "        print(\"BF list \", remove_decimal_places(bf_list))\n",
    "        print(\"Lin List\", remove_decimal_places(lin_list))\n",
    "        \n",
    "        print(\"\\n\")\n",
    "        \n",
    "        print(\"Conservative List\", remove_decimal_places(cons_list))\n",
    "        print(\"Average List\", remove_decimal_places(avg_list))\n",
    "        '''\n",
    "    else:\n",
    "        print(\"\\n\")\n",
    "        print(\"ERROR: you must choose n and m such that m divides n (ie. n / m is a whole number)\")\n",
    "\n",
    "\n",
    "\n",
    "\n",
    "exposure_simulation(10,5, 0.01, 25, 1000, -5, 5)\n"
   ]
  },
  {
   "cell_type": "markdown",
   "metadata": {},
   "source": [
    "#### **INTERACT:** Use the interactive graph below to analyse how the baseline refresh operates for different parameter values and datasets! "
   ]
  },
  {
   "cell_type": "code",
   "execution_count": 256,
   "metadata": {},
   "outputs": [
    {
     "data": {
      "application/vnd.jupyter.widget-view+json": {
       "model_id": "cb8f06d1eeac488db100f0bcca5e64b4",
       "version_major": 2,
       "version_minor": 0
      },
      "text/plain": [
       "interactive(children=(IntSlider(value=10, description='# of Trades', min=1), IntSlider(value=5, description='R…"
      ]
     },
     "metadata": {},
     "output_type": "display_data"
    },
    {
     "data": {
      "text/plain": [
       "<function __main__.exposure_simulation(n, m, addonfactor, baseline_mtm, baseline_notional, MtM_min, MtM_max)>"
      ]
     },
     "execution_count": 256,
     "metadata": {},
     "output_type": "execute_result"
    }
   ],
   "source": [
    "\n",
    "interact(exposure_simulation,\n",
    "         n=widgets.IntSlider(min=1, max=100, step=1, value=10, description=\"# of Trades\"),\n",
    "         m=widgets.IntSlider(min=1, max=100, step=1, value =5, description=\"Refresh Cycle\"),\n",
    "         addonfactor = widgets.FloatSlider(min=0,max=1,step=0.01,value=0.01,description=\"AddOnFactor\"),\n",
    "         baseline_mtm = widgets.IntSlider(min=10, max=100000, step=10, value=1000, description=\"MTM Baseline\"),\n",
    "         baseline_notional = widgets.IntSlider(min=1000, max=1000000, step=100, value=100000, description=\"Notional Baseline\"),\n",
    "         MtM_min = widgets.IntSlider(min=-1000, max=-10, step=1, value =-50, description=\"MtM Min\"),         \n",
    "         MtM_max = widgets.IntSlider(min=10, max=1000, step=1, value=50, description=\"MtM Max\"),\n",
    "         )"
   ]
  },
  {
   "cell_type": "code",
   "execution_count": 257,
   "metadata": {},
   "outputs": [
    {
     "data": {
      "application/vnd.jupyter.widget-view+json": {
       "model_id": "eb98ce022c8a4329bbd749ad2ea4eec1",
       "version_major": 2,
       "version_minor": 0
      },
      "text/plain": [
       "VBox(children=(GridBox(children=(IntSlider(value=10, description='# of Trades', min=1), IntSlider(value=5, des…"
      ]
     },
     "metadata": {},
     "output_type": "display_data"
    },
    {
     "data": {
      "application/vnd.jupyter.widget-view+json": {
       "model_id": "15e7089c95cb4ddf963941b6542f9c1c",
       "version_major": 2,
       "version_minor": 0
      },
      "text/plain": [
       "Output()"
      ]
     },
     "metadata": {},
     "output_type": "display_data"
    }
   ],
   "source": [
    "\n",
    "# Define interactive controls\n",
    "n_slider = widgets.IntSlider(min=1, max=100, step=1, value=10, description=\"# of Trades\")\n",
    "m_slider = widgets.IntSlider(min=1, max=100, step=1, value=5, description=\"Refresh Cycle\")\n",
    "addonfactor_slider = widgets.FloatSlider(min=0, max=1, step=0.01, value=0.01, description=\"AddOnFactor\")\n",
    "baseline_mtm_slider = widgets.IntSlider(min=10, max=100000, step=10, value=1000, description=\"MTM Baseline\")\n",
    "baseline_notional_slider = widgets.IntSlider(min=1000, max=1000000, step=100, value=100000, description=\"Notional Baseline\")\n",
    "MtM_min_slider = widgets.IntSlider(min=-1000, max=-10, step=1, value=-50, description=\"MtM Min\")\n",
    "MtM_max_slider = widgets.IntSlider(min=10, max=1000, step=1, value=50, description=\"MtM Max\")\n",
    "\n",
    "# Preset button functionality\n",
    "def set_preset_1(b):\n",
    "    n_slider.value = 30\n",
    "    m_slider.value = 10\n",
    "    addonfactor_slider.value = 0.01\n",
    "    baseline_mtm_slider.value = 10000\n",
    "    baseline_notional_slider.value = 500000\n",
    "    MtM_min_slider.value = -20\n",
    "    MtM_max_slider.value = 20\n",
    "\n",
    "def set_preset_2(b):\n",
    "    n_slider.value = 30\n",
    "    m_slider.value = 10\n",
    "    addonfactor_slider.value = 0.1\n",
    "    baseline_mtm_slider.value = 1000\n",
    "    baseline_notional_slider.value = 100000\n",
    "    MtM_min_slider.value = -100\n",
    "    MtM_max_slider.value = 100\n",
    "\n",
    "# Create preset buttons\n",
    "preset_button_1 = widgets.Button(description=\"Large Baseline, Small Impacts\")\n",
    "preset_button_2 = widgets.Button(description=\"Small Baseline, Large Impacts\")\n",
    "\n",
    "preset_button_1.on_click(set_preset_1)\n",
    "preset_button_2.on_click(set_preset_2)\n",
    "\n",
    "preset_button_1.layout = Layout(width='250px', height='50px')\n",
    "preset_button_2.layout = Layout(width='250px', height='50px')\n",
    "\n",
    "# Create grid layout for sliders\n",
    "grid_layout = widgets.GridBox(\n",
    "    children=[n_slider, m_slider, addonfactor_slider, baseline_mtm_slider, baseline_notional_slider, MtM_min_slider, MtM_max_slider],\n",
    "    layout=Layout(grid_template_columns=\"repeat(3, 300px)\", grid_template_rows=\"repeat(3, auto)\", grid_gap=\"10px\")\n",
    ")\n",
    "\n",
    "# Layout for buttons\n",
    "button_layout = widgets.HBox([preset_button_1, preset_button_2])\n",
    "\n",
    "# Display interactive widgets and function output\n",
    "ui = widgets.VBox([grid_layout])\n",
    "out = widgets.interactive_output(exposure_simulation, {\n",
    "    'n': n_slider, \n",
    "    'm': m_slider, \n",
    "    'addonfactor': addonfactor_slider, \n",
    "    'baseline_mtm': baseline_mtm_slider, \n",
    "    'baseline_notional': baseline_notional_slider, \n",
    "    'MtM_min': MtM_min_slider, \n",
    "    'MtM_max': MtM_max_slider\n",
    "})\n",
    "\n",
    "display(ui, out)"
   ]
  },
  {
   "cell_type": "markdown",
   "metadata": {},
   "source": [
    "#### **Analysis:** Percentage Growth\n",
    "\n",
    "- We are curious to see how much a certain strategy grows. \n",
    "- What we can do is take each list and analyse the percentage difference from the brute force approach. \n",
    "- After that, we can plot the results for each, and then pick the largest number from the set as a metric for how much a method grew \n",
    "- As before, we can set up an interactive graph that has different presets to test certain scenarios !"
   ]
  },
  {
   "cell_type": "code",
   "execution_count": 258,
   "metadata": {},
   "outputs": [],
   "source": [
    "def PercentageGrowth(n,m, addonfactor, baseline_mtm, baseline_notional, MtM_min, MtM_max):   \n",
    "\n",
    "    # Randomly generate our dataset\n",
    "    # update_position_impacts(n, baseline_mtm, baseline_notional, MtM_min, MtM_max)\n",
    "    # positions = position_impacts_state[\"data\"]\n",
    "    \n",
    "    positions = get_position_impacts(n, baseline_mtm, baseline_notional, MtM_min, MtM_max)\n",
    "\n",
    "    singleposition = False\n",
    "\n",
    "    # Set up the following lists to store the exposures for each trade\n",
    "    bf_list = []\n",
    "    cons_list = []\n",
    "    lin_list = []\n",
    "    avg_list = []\n",
    "\n",
    "    # Add the initial exposure for the baseline trade\n",
    "    bf_list.append(PSR_NGR(np.array([positions[0,:]]), addonfactor, singleposition))\n",
    "    lin_list.append(PSR_NGR(np.array([positions[0,:]]), addonfactor, singleposition))\n",
    "    cons_list.append(PSR_NGR(np.array([positions[0,:]]), addonfactor, singleposition))\n",
    "    avg_list.append(PSR_NGR(np.array([positions[0,:]]), addonfactor, singleposition))\n",
    "\n",
    "\n",
    "    # We iterate through the list. Once we hit m trades, we update the baseline and repeat\n",
    "    for i in range(int(n/m)):\n",
    "        \n",
    "        cumulative_positions = np.zeros((0, 2))  # empty to start\n",
    "        cumulative_positions = np.vstack([cumulative_positions, positions[0, :]])\n",
    "\n",
    "        for j in range(m):\n",
    "            \n",
    "            # Add the next position to the cumulative set\n",
    "            cumulative_positions = np.vstack([cumulative_positions, positions[j+1 + m*i, :]])\n",
    "\n",
    "            # Perform the PSR calculations for each strategy\n",
    "            NGR_BF = PSR_NGR(cumulative_positions, addonfactor, singleposition)\n",
    "            NGR_Lin = PSR_Linear(cumulative_positions, addonfactor)\n",
    "            NGR_Cons = PSR_Conservative(cumulative_positions, addonfactor)\n",
    "            NGR_Avg = PSR_Average(cumulative_positions, addonfactor, j+1)\n",
    "\n",
    "            # Append results to respective lists\n",
    "            bf_list.append(NGR_BF)\n",
    "            lin_list.append(NGR_Lin)\n",
    "            cons_list.append(NGR_Cons)\n",
    "            avg_list.append(NGR_Avg)\n",
    "\n",
    "        # Re-calculate the baseline by adding in the processed impacts\n",
    "        mtmRefresh = np.sum(cumulative_positions[:,0])\n",
    "        notionalRefresh = np.sum(cumulative_positions[:,1])\n",
    "\n",
    "        # Update the first row (baseline)\n",
    "        positions[0,0] = max(0,mtmRefresh)\n",
    "        positions[0,1] = notionalRefresh\n",
    "\n",
    "        # Add this baseline calculation to the dataset\n",
    "        bf_list.append(PSR_NGR(np.array([positions[0,:]]), addonfactor, singleposition))\n",
    "        lin_list.append(PSR_NGR(np.array([positions[0,:]]), addonfactor, singleposition))\n",
    "        cons_list.append(PSR_NGR(np.array([positions[0,:]]), addonfactor, singleposition))\n",
    "        avg_list.append(PSR_NGR(np.array([positions[0,:]]), addonfactor, singleposition))\n",
    "\n",
    "    #print(remove_decimal_places(bf_list))\n",
    "\n",
    "    # POST-PROCESSING\n",
    "    # Below we plot our results\n",
    "    x = np.linspace(0, n+int(n/m), n+int(n/m)+1)\n",
    "\n",
    "\n",
    "\n",
    "\n",
    "    if n % m == 0:\n",
    "        \n",
    "        lin_diff = [(lin_list[i] - bf_list[i])/bf_list[i]*100 for i in range(len(bf_list))]\n",
    "        cons_diff = [(cons_list[i] - bf_list[i])/bf_list[i]*100 for i in range(len(cons_list))]\n",
    "        avg_diff = [(avg_list[i] - bf_list[i])/bf_list[i]*100 for i in range(len(avg_list))]\n",
    "\n",
    "\n",
    "        plt.figure(figsize=(8,5))\n",
    "        plt.grid(True)\n",
    "        plt.plot(x, cons_diff, 'r', label = \"Cons. Diff.\")\n",
    "        plt.plot(x, lin_diff, 'g', label = \"Lin. Diff\")\n",
    "        plt.plot(x, avg_diff, 'y', label = \"Avg. Diff\")\n",
    "        plt.xlabel(\"Trade Number\")\n",
    "        plt.ylabel(\"Percantage Difference\")\n",
    "\n",
    "        # We will add in vertical lines to indicate the points in the dataset when a refresh is carried out\n",
    "        for i in range(int(n/m)):\n",
    "\n",
    "            vline_x = (i+1)*(m+1)\n",
    "            ymin, ymax = plt.ylim()\n",
    "            plt.axvline(vline_x, color='k', linestyle='--')\n",
    "            vline_x2 = (i+1)*(m+1)-1\n",
    "            ymin2, ymax2 = plt.ylim()\n",
    "            plt.axvline(vline_x2, color='r', linestyle='--')\n",
    "            plt.text(vline_x, ymax + (ymax - ymin)*0.025, 'RF', ha=\"center\", va = \"bottom\", color=\"k\")\n",
    "            plt.text(vline_x2, ymax2 + (ymax2 - ymin2)*0.025, '↻', ha=\"center\", va = \"bottom\", color=\"r\")\n",
    "\n",
    "        vline_start = 0\n",
    "        ymin3, ymax3 = plt.ylim()\n",
    "        plt.axvline(vline_start, color='b', linestyle='--')\n",
    "        plt.text(vline_start, ymax3 + (ymax3 - ymin3)*0.025, 'Base', ha=\"center\", va = \"bottom\", color=\"b\")\n",
    "\n",
    "        plt.title(\"Percentage Difference From BF\", pad=40)\n",
    "        plt.legend()\n",
    "        plt.subplots_adjust(hspace=0.5)\n",
    "        plt.show()\n",
    "\n",
    "    else:\n",
    "        print(\"\\n\")\n",
    "        print(\"ERROR: you must choose n and m such that m divides n (ie. n / m is a whole number)\")\n",
    "\n",
    "\n"
   ]
  },
  {
   "cell_type": "code",
   "execution_count": 259,
   "metadata": {},
   "outputs": [
    {
     "data": {
      "application/vnd.jupyter.widget-view+json": {
       "model_id": "0d24df5083c4407c9638c7d1a9ab90ad",
       "version_major": 2,
       "version_minor": 0
      },
      "text/plain": [
       "interactive(children=(IntSlider(value=10, description='# of Trades', min=1), IntSlider(value=5, description='R…"
      ]
     },
     "metadata": {},
     "output_type": "display_data"
    },
    {
     "data": {
      "text/plain": [
       "<function __main__.PercentageGrowth(n, m, addonfactor, baseline_mtm, baseline_notional, MtM_min, MtM_max)>"
      ]
     },
     "execution_count": 259,
     "metadata": {},
     "output_type": "execute_result"
    }
   ],
   "source": [
    "interact(PercentageGrowth,\n",
    "         n=widgets.IntSlider(min=1, max=100, step=1, value=10, description=\"# of Trades\"),\n",
    "         m=widgets.IntSlider(min=1, max=100, step=1, value =5, description=\"Refresh Cycle\"),\n",
    "         addonfactor = widgets.FloatSlider(min=0,max=1,step=0.01,value=0.01,description=\"AddOnFactor\"),\n",
    "         baseline_mtm = widgets.IntSlider(min=10, max=1000, step=5, value=100, description=\"MTM Baseline\"),\n",
    "         baseline_notional = widgets.IntSlider(min=1000, max=100000, step=100, value=10000, description=\"Notional Baseline\"),\n",
    "         MtM_min = widgets.IntSlider(min=-1000, max=-50, step=1, value =-100, description=\"MtM Min\"),         \n",
    "         MtM_max = widgets.IntSlider(min=50, max=1000, step=1, value=100, description=\"MtM Max\"),\n",
    "         )"
   ]
  },
  {
   "cell_type": "markdown",
   "metadata": {},
   "source": [
    "### Observations on Dataset Impact (INCOMPLETE)\n",
    "\n",
    "1. WORK ON THIS SECTION AND SHOW YOUR FINDINGS"
   ]
  },
  {
   "cell_type": "code",
   "execution_count": 260,
   "metadata": {},
   "outputs": [
    {
     "data": {
      "application/vnd.jupyter.widget-view+json": {
       "model_id": "80c728e37cc946bd997775a31b5f4bf2",
       "version_major": 2,
       "version_minor": 0
      },
      "text/plain": [
       "VBox(children=(GridBox(children=(IntSlider(value=10, description='# of Trades', min=1), IntSlider(value=5, des…"
      ]
     },
     "metadata": {},
     "output_type": "display_data"
    },
    {
     "data": {
      "application/vnd.jupyter.widget-view+json": {
       "model_id": "a6bcad8ddfb641ab88b3426965632c26",
       "version_major": 2,
       "version_minor": 0
      },
      "text/plain": [
       "Output()"
      ]
     },
     "metadata": {},
     "output_type": "display_data"
    }
   ],
   "source": [
    "# Define your sliders\n",
    "n_slider = widgets.IntSlider(min=1, max=100, step=1, value=10, description=\"# of Trades\")\n",
    "m_slider = widgets.IntSlider(min=1, max=100, step=1, value=5, description=\"Refresh Cycle\")\n",
    "addonfactor_slider = widgets.FloatSlider(min=0, max=1, step=0.01, value=0.01, description=\"AddOnFactor\")\n",
    "baseline_mtm_slider = widgets.IntSlider(min=100, max=10000, step=20, value=1000, description=\"MTM Baseline\")\n",
    "baseline_notional_slider = widgets.IntSlider(min=10000, max=1000000, step=100, value=100000, description=\"Notional Baseline\")\n",
    "MtM_min_slider = widgets.IntSlider(min=-1000, max=-10, step=10, value=-50, description=\"MtM Min\")\n",
    "MtM_max_slider = widgets.IntSlider(min=10, max=1000, step=1, value=50, description=\"MtM Max\")\n",
    "\n",
    "# Function to update slider values based on button press\n",
    "def set_preset_1(b):\n",
    "    n_slider.value = 30\n",
    "    m_slider.value = 10\n",
    "    addonfactor_slider.value = 0.01\n",
    "    baseline_mtm_slider.value = 10000\n",
    "    baseline_notional_slider.value = 500000\n",
    "    MtM_min_slider.value = -20\n",
    "    MtM_max_slider.value = 20\n",
    "\n",
    "def set_preset_2(b):\n",
    "    n_slider.value = 30\n",
    "    m_slider.value = 10\n",
    "    addonfactor_slider.value = 0.1\n",
    "    baseline_mtm_slider.value = 1000\n",
    "    baseline_notional_slider.value = 100000\n",
    "    MtM_min_slider.value = -100\n",
    "    MtM_max_slider.value = 100\n",
    "\n",
    "# Create buttons for presets\n",
    "preset_button_1 = widgets.Button(description=\"Large Baseline, Small Impacts\")\n",
    "preset_button_2 = widgets.Button(description=\"Small Baseline, Large Impacts\")\n",
    "\n",
    "# Assign button click event to set preset values\n",
    "preset_button_1.on_click(set_preset_1)\n",
    "preset_button_2.on_click(set_preset_2)\n",
    "\n",
    "# Make the buttons larger\n",
    "preset_button_1.layout = Layout(width='250px', height='50px')\n",
    "preset_button_2.layout = Layout(width='250px', height='50px')\n",
    "\n",
    "# Create a grid layout for the sliders (2x3 layout)\n",
    "grid_layout = widgets.GridBox(\n",
    "    children=[n_slider, m_slider, addonfactor_slider, baseline_mtm_slider, baseline_notional_slider, MtM_min_slider, MtM_max_slider],\n",
    "    layout=Layout(grid_template_columns=\"repeat(3, 300px)\", grid_template_rows=\"repeat(3, auto)\", grid_gap=\"10px\")\n",
    ")\n",
    "\n",
    "# Layout for buttons\n",
    "button_layout = widgets.HBox([preset_button_1, preset_button_2])\n",
    "\n",
    "# Display the interactive widgets and buttons in a grid layout\n",
    "ui = widgets.VBox([grid_layout, button_layout])\n",
    "out = widgets.interactive_output(PercentageGrowth, {\n",
    "    'n': n_slider, \n",
    "    'm': m_slider, \n",
    "    'addonfactor': addonfactor_slider, \n",
    "    'baseline_mtm': baseline_mtm_slider, \n",
    "    'baseline_notional': baseline_notional_slider, \n",
    "    'MtM_min': MtM_min_slider, \n",
    "    'MtM_max': MtM_max_slider\n",
    "})\n",
    "\n",
    "display(ui, out)\n"
   ]
  }
 ],
 "metadata": {
  "kernelspec": {
   "display_name": "Python 3 (ipykernel)",
   "language": "python",
   "name": "python3"
  },
  "language_info": {
   "codemirror_mode": {
    "name": "ipython",
    "version": 3
   },
   "file_extension": ".py",
   "mimetype": "text/x-python",
   "name": "python",
   "nbconvert_exporter": "python",
   "pygments_lexer": "ipython3",
   "version": "3.11.9"
  }
 },
 "nbformat": 4,
 "nbformat_minor": 4
}
