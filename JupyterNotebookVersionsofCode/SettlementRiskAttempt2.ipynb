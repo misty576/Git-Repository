{
 "cells": [
  {
   "cell_type": "code",
   "execution_count": 874,
   "metadata": {},
   "outputs": [],
   "source": [
    "import numpy as np\n",
    "import random\n",
    "import matplotlib.pyplot as plt\n",
    "import math\n",
    "import ipywidgets as widgets\n",
    "from ipywidgets import interact, interactive, fixed, interact_manual\n",
    "import copy"
   ]
  },
  {
   "cell_type": "code",
   "execution_count": 875,
   "metadata": {},
   "outputs": [],
   "source": [
    "exchange_rate_2 = 0.9\n",
    "exchange_rate_3 = 1.1\n",
    "exchange_rate_4 = 0.8\n",
    "exchange_rate_5 = 1.2"
   ]
  },
  {
   "cell_type": "code",
   "execution_count": 876,
   "metadata": {},
   "outputs": [],
   "source": [
    "def generate_data(n, baseline):\n",
    "\n",
    "    positions = np.zeros((n,2))\n",
    "    positions[0,0] = baseline\n",
    "    positions[0,1] = random.randint(1,5)\n",
    "    for i in range(n-1):\n",
    "        positions[i+1,0] = random.randint(-10,10)\n",
    "        positions[i+1,1] = random.randint(1,5)\n",
    "    \n",
    "    print(positions)\n",
    "    return positions"
   ]
  },
  {
   "cell_type": "code",
   "execution_count": 877,
   "metadata": {},
   "outputs": [],
   "source": [
    "def settlementrisk(position):\n",
    "\n",
    "    total = 0\n",
    "    temp = position[0].copy()\n",
    "\n",
    "    if position[1] == 2:\n",
    "        temp *= exchange_rate_2\n",
    "    elif position[1] == 3:\n",
    "        temp *= exchange_rate_3\n",
    "    elif position[1] == 4:\n",
    "        temp *= exchange_rate_4\n",
    "    elif position[1] == 5:\n",
    "        temp *= exchange_rate_5\n",
    "    \n",
    "    return max(0, float(temp))"
   ]
  },
  {
   "cell_type": "code",
   "execution_count": 878,
   "metadata": {},
   "outputs": [],
   "source": [
    "def BruteForce(positions):\n",
    "\n",
    "    bf_list = []\n",
    "    netting_1 = np.zeros((0,2))\n",
    "    netting_2 = np.zeros((0,2))\n",
    "    netting_3 = np.zeros((0,2))\n",
    "    netting_4 = np.zeros((0,2))\n",
    "    netting_5 = np.zeros((0,2))\n",
    "\n",
    "    for i in range(len(positions)):\n",
    "\n",
    "        if positions[i,1] == 1:\n",
    "            row = copy.deepcopy(positions[i,:])\n",
    "            netting_1 = np.vstack([netting_1, row])\n",
    "        elif positions[i,1] == 2:\n",
    "            row = copy.deepcopy(positions[i,:])\n",
    "            netting_2 = np.vstack([netting_2, row])\n",
    "        elif positions[i,1] == 3:\n",
    "            row = copy.deepcopy(positions[i,:])\n",
    "            netting_3 = np.vstack([netting_3, row])\n",
    "        elif positions[i,1] == 4:\n",
    "            row = copy.deepcopy(positions[i,:])\n",
    "            netting_4 = np.vstack([netting_4, row])\n",
    "        elif positions[i,1] == 5:\n",
    "            row = copy.deepcopy(positions[i,:])\n",
    "            netting_5 = np.vstack([netting_5, row])\n",
    "\n",
    "        bf_list.append(settlementrisk(np.array([np.sum(netting_1[:,0]), 1])) + settlementrisk(np.array([np.sum(netting_2[:,0]), 2])) + settlementrisk(np.array([np.sum(netting_3[:,0]), 3])) + settlementrisk(np.array([np.sum(netting_4[:,0]), 4])) + settlementrisk(np.array([np.sum(netting_5[:,0]), 5])))\n",
    "\n",
    "    total = settlementrisk(np.array([np.sum(netting_1[:,0]), 1])) + settlementrisk(np.array([np.sum(netting_2[:,0]), 2])) + settlementrisk(np.array([np.sum(netting_3[:,0]), 3])) + settlementrisk(np.array([np.sum(netting_4[:,0]), 4])) + settlementrisk(np.array([np.sum(netting_5[:,0]), 5]))\n",
    "\n",
    "    return [total, bf_list]"
   ]
  },
  {
   "cell_type": "code",
   "execution_count": 879,
   "metadata": {},
   "outputs": [],
   "source": [
    "def Linearisation(positions):\n",
    "\n",
    "    lin_list = []\n",
    "    baseline = copy.deepcopy(positions[0,:])\n",
    "    baseline_exposure = settlementrisk(baseline)\n",
    "    total = baseline_exposure\n",
    "    lin_list.append(total)\n",
    "    \n",
    "    for i in range(len(positions) - 1):\n",
    "\n",
    "        row = copy.deepcopy(positions[i+1,:])\n",
    "\n",
    "        if baseline[1] == row[1]:\n",
    "\n",
    "            temp_netting = np.array([0,0])\n",
    "            temp_netting = np.vstack([temp_netting, baseline])\n",
    "            temp_netting = np.vstack([temp_netting, row])\n",
    "\n",
    "            sum = np.sum(temp_netting[:,0])\n",
    "            calc = settlementrisk(np.array([sum, baseline[1]]))\n",
    "            total += calc - baseline_exposure\n",
    "        else:\n",
    "            total += settlementrisk(row)\n",
    "        \n",
    "        lin_list.append(total)\n",
    "        \n",
    "    return [total, lin_list]"
   ]
  },
  {
   "cell_type": "code",
   "execution_count": 880,
   "metadata": {},
   "outputs": [],
   "source": [
    "def Conservative(positions):\n",
    "\n",
    "    total = 0\n",
    "\n",
    "    cons_list = []\n",
    "\n",
    "    for i in range(len(positions)):\n",
    "        row = copy.deepcopy(positions[i,:])\n",
    "        total += settlementrisk(row)\n",
    "        cons_list.append(total)\n",
    "\n",
    "    return [total, cons_list]"
   ]
  },
  {
   "cell_type": "code",
   "execution_count": 881,
   "metadata": {},
   "outputs": [],
   "source": [
    "def Averages(positions):\n",
    "\n",
    "    avg_list = []\n",
    "    n = len(positions)-1\n",
    "    baseline = copy.deepcopy(positions[0,:])\n",
    "    baseline_exposure = settlementrisk(baseline)\n",
    "    total = baseline_exposure\n",
    "    avg_list.append(total)\n",
    "\n",
    "    for i in range(len(positions)-1):\n",
    "\n",
    "        row = copy.deepcopy(positions[i+1,:])\n",
    "\n",
    "        if baseline[1] == row[1]:\n",
    "            \n",
    "            temp_netting = np.array([0,0])\n",
    "            temp_netting = np.vstack([temp_netting, baseline])\n",
    "            temp_netting = np.vstack([temp_netting, row])\n",
    "            temp_netting[2,0] *= n\n",
    "\n",
    "            total += 1/n*(settlementrisk(np.array([np.sum(temp_netting[:,0]), baseline[1]])) - baseline_exposure)\n",
    "        \n",
    "        else:\n",
    "            row[0] *= n\n",
    "            total += 1/n*settlementrisk(row)\n",
    "        \n",
    "        avg_list.append(total)\n",
    "\n",
    "    return [total, avg_list]"
   ]
  },
  {
   "cell_type": "code",
   "execution_count": 882,
   "metadata": {},
   "outputs": [
    {
     "name": "stdout",
     "output_type": "stream",
     "text": [
      "[[ 5.  1.]\n",
      " [ 9.  1.]\n",
      " [-8.  3.]\n",
      " [-7.  1.]\n",
      " [-5.  2.]\n",
      " [ 1.  4.]\n",
      " [-6.  5.]\n",
      " [-4.  2.]\n",
      " [ 4.  3.]\n",
      " [ 4.  4.]\n",
      " [-3.  5.]\n",
      " [-6.  5.]\n",
      " [-4.  5.]\n",
      " [-1.  2.]\n",
      " [-1.  1.]\n",
      " [ 1.  2.]\n",
      " [ 7.  4.]\n",
      " [-2.  3.]\n",
      " [-9.  2.]\n",
      " [ 1.  5.]]\n",
      "Brute Force:  15.600000000000001\n",
      "\n",
      "\n",
      "Linearisation:  24.1\n",
      "\n",
      "\n",
      "Conservative:  30.1\n",
      "\n",
      "\n",
      "Averages:  29.573684210526313\n"
     ]
    },
    {
     "data": {
      "image/png": "[encoded data removed]",
      "text/plain": [
       "<Figure size 640x480 with 1 Axes>"
      ]
     },
     "metadata": {},
     "output_type": "display_data"
    }
   ],
   "source": [
    "def sim(n, baseline):\n",
    "\n",
    "    data = generate_data(n, baseline)\n",
    "\n",
    "    [total_BF, bf_list] = BruteForce(data)\n",
    "\n",
    "    [total_Linearisation, lin_list] = Linearisation(data)\n",
    "\n",
    "    [total_Conservative, cons_list] = Conservative(data)\n",
    "\n",
    "    [total_Averages, avg_list] = Averages(data)\n",
    "\n",
    "    print(\"Brute Force: \", total_BF)\n",
    "    print(\"\\n\")\n",
    "    print(\"Linearisation: \", total_Linearisation)\n",
    "    print(\"\\n\")\n",
    "    print(\"Conservative: \", total_Conservative)\n",
    "    print(\"\\n\")\n",
    "    print(\"Averages: \", total_Averages)\n",
    "\n",
    "\n",
    "    x = np.linspace(0,n,n)\n",
    "\n",
    "    plt.figure()\n",
    "    plt.plot(x,bf_list, label=\"Brute Force (Batch)\", color= \"b\")\n",
    "    plt.plot(x,lin_list, label=\"Linearisation\", color= \"g\")\n",
    "    plt.plot(x,avg_list, label=\"Averages\", color= \"y\")\n",
    "    plt.plot(x,cons_list, label=\"Conservative\", color= \"r\")\n",
    "    plt.legend()\n",
    "    plt.grid(True)\n",
    "    plt.xlabel(\"Trade Number\")\n",
    "    plt.ylabel(\"Exposure (Settlement Risk)\")\n",
    "    plt.show()\n",
    "\n",
    "sim(20, 5)"
   ]
  },
  {
   "cell_type": "code",
   "execution_count": 883,
   "metadata": {},
   "outputs": [
    {
     "data": {
      "application/vnd.jupyter.widget-view+json": {
       "model_id": "9d239ad6cb674939ae71755cce7f709b",
       "version_major": 2,
       "version_minor": 0
      },
      "text/plain": [
       "interactive(children=(IntSlider(value=20, description='Total No. Trades'), IntSlider(value=100, description='B…"
      ]
     },
     "metadata": {},
     "output_type": "display_data"
    },
    {
     "data": {
      "text/plain": [
       "<function __main__.sim(n, baseline)>"
      ]
     },
     "execution_count": 883,
     "metadata": {},
     "output_type": "execute_result"
    }
   ],
   "source": [
    "widgets.interact(sim,\n",
    "         n = widgets.IntSlider(min=0,max=100,step=1,value=20,description=\"Total No. Trades\"),\n",
    "         baseline = widgets.IntSlider(min=10,max=500,step=5,value=100,description=\"Baseline Exp.\"),\n",
    "         )"
   ]
  }
 ],
 "metadata": {
  "kernelspec": {
   "display_name": "Python 3",
   "language": "python",
   "name": "python3"
  },
  "language_info": {
   "codemirror_mode": {
    "name": "ipython",
    "version": 3
   },
   "file_extension": ".py",
   "mimetype": "text/x-python",
   "name": "python",
   "nbconvert_exporter": "python",
   "pygments_lexer": "ipython3",
   "version": "3.11.9"
  }
 },
 "nbformat": 4,
 "nbformat_minor": 2
}
