{
 "cells": [
  {
   "cell_type": "markdown",
   "metadata": {},
   "source": [
    "## Main Notebook: Strategies Investigation for **Settlement Risk**\n",
    "\n",
    "### Overview\n",
    "\n",
    "This notebook analyses the exposure and performance of the strategies for settlement risk"
   ]
  },
  {
   "cell_type": "markdown",
   "metadata": {},
   "source": [
    "---\n",
    "### **SETUP:** Define all the programs we will use\n",
    "--- "
   ]
  },
  {
   "cell_type": "markdown",
   "metadata": {},
   "source": [
    "#### **Step 1**: Import Modules\n",
    "---"
   ]
  },
  {
   "cell_type": "code",
   "execution_count": 9,
   "metadata": {},
   "outputs": [],
   "source": [
    "import numpy as np\n",
    "import random\n",
    "import matplotlib.pyplot as plt\n",
    "import math\n",
    "import ipywidgets as widgets\n",
    "from ipywidgets import interact, interactive, fixed, interact_manual"
   ]
  },
  {
   "cell_type": "markdown",
   "metadata": {},
   "source": [
    "### Dataset Generation for Settlement Risk Analysis\n",
    "\n",
    "This section outlines the methodology used to generate the dataset for evaluating different strategies related to settlement risk. The dataset consists of two primary components: the **baseline positions** and the **incoming trades**. \n",
    "\n",
    "#### 1. Baseline Positions\n",
    "\n",
    "The baseline positions represent the initial state of exposure in various currencies. The dataset is created as follows:\n",
    "\n",
    "- **Number of Currencies**: The analysis involves five currencies: USD, GBP, EUR, AUD, and JPY, represented as columns in the dataset.\n",
    "  \n",
    "- **Randomized Values**: \n",
    "  - Each currency's baseline position is randomly generated within a specified range defined by `baseline_min` and `baseline_max`.\n",
    "  - A separate random value is generated for each currency, ensuring a varied initial exposure across the different currencies.\n",
    "\n",
    "The resulting baseline is a one-dimensional array, where each entry corresponds to the position in a specific currency.\n",
    "\n",
    "#### 2. Incoming Trades\n",
    "\n",
    "The incoming trades are generated to simulate the transactional activity that impacts the baseline positions. The trades are constructed as follows:\n",
    "\n",
    "- **Number of Trades**: The total number of trades is specified by the user (parameter `n`).\n",
    "\n",
    "- **Currency Selection**:\n",
    "  - For each trade, a random currency is selected as the primary currency for the trade (from the available five currencies).\n",
    "  - A counter currency is also randomly selected from the remaining currencies.\n",
    "\n",
    "- **Trade Type**: \n",
    "  - Each trade can be either a buy or a sell. \n",
    "  - If it is a buy transaction, a random value between 5 and 10 is generated, and the corresponding value in the counter currency is calculated based on predetermined exchange rates.\n",
    "  - Conversely, for a sell transaction, a random value between -10 and -5 is generated, with the counter currency value also determined using the exchange rates.\n",
    "\n",
    "The trades are structured in a two-dimensional array (n x 5), where each row corresponds to a specific trade's impact on the respective currencies.\n",
    "\n",
    "#### 3. Exchange Rates\n",
    "\n",
    "To accurately reflect the relationships between different currencies, a predefined set of exchange rates is established:\n",
    "- The exchange rates are defined for unique currency pairs, ensuring that the rate for converting between two currencies is symmetric (i.e., if `rate(A to B)` is known, `rate(B to A)` can be derived).\n",
    "\n",
    "This structure allows the simulation of various scenarios, providing insight into the effectiveness of different strategies for managing settlement risk. \n",
    "\n"
   ]
  },
  {
   "cell_type": "markdown",
   "metadata": {},
   "source": [
    "#### **Step 2**: Build the Baseline and Transactions (Impacts) that we will use\n",
    "---"
   ]
  },
  {
   "cell_type": "code",
   "execution_count": 10,
   "metadata": {},
   "outputs": [],
   "source": [
    "\n",
    "# Columns correspond to CURRENCIES\n",
    "# Column 1: USD\n",
    "# Column 2: GBP\n",
    "# Column 3: EUR\n",
    "# Column 4: AUD\n",
    "# Column 5: JPY\n",
    "\n",
    "def get_baseline_positions(n, baseline_min, baseline_max):\n",
    "\n",
    "    baseline = np.zeros((1,5))\n",
    "\n",
    "\n",
    "    baseline[0][0] = random.randint(baseline_min, baseline_max)\n",
    "    baseline[0][1] = random.randint(baseline_min, baseline_max)\n",
    "    baseline[0][2] = random.randint(baseline_min, baseline_max)\n",
    "    baseline[0][3] = random.randint(baseline_min, baseline_max)\n",
    "    baseline[0][4] = random.randint(baseline_min, baseline_max)\n",
    "\n",
    "    '''\n",
    "    baseline[0][0]  = random.randint(-100,100)\n",
    "    baseline[0][1] = -baseline[0][0]\n",
    "    baseline[0][2] = random.randint(-100,100)\n",
    "    baseline[0][3] = -baseline[0][2]\n",
    "    baseline[0][4] = random.randint(-100,100)\n",
    "    '''\n",
    "\n",
    "    #print(\"Initial Baseline\", baseline)\n",
    "\n",
    "\n",
    "    # there are C(5,2) = 5!/(5-2)!(2!) = 10 unique pairs for the exchange rates\n",
    "\n",
    "\n",
    "    exchange_rate_1_2 = 2\n",
    "    exchange_rate_1_3 = 0.5\n",
    "    exchange_rate_1_4 = 1.5\n",
    "    exchange_rate_1_5 = 3\n",
    "\n",
    "    exchange_rate_2_3 = 0.5\n",
    "    exchange_rate_2_4 = 1.25\n",
    "    exchange_rate_2_5 = 0.75\n",
    "\n",
    "    exchange_rate_3_4 = 2\n",
    "    exchange_rate_3_5 = 0.5\n",
    "\n",
    "    exchange_rate_4_5 = 1.5\n",
    "    \n",
    "    exchange_rates = np.zeros((5,5))\n",
    "\n",
    "    for i in range(exchange_rates.shape[0]):\n",
    "        for j in range(exchange_rates.shape[1]):\n",
    "            \n",
    "            if i == j:\n",
    "                exchange_rates[i][j] = 1  # Set diagonal to 1 (since the exchange rate to itself is 1)\n",
    "            else:\n",
    "                # Assign the exchange rates based on (i,j) index\n",
    "                if i == 0 and j == 1:\n",
    "                    exchange_rates[i][j] = exchange_rate_1_2\n",
    "                elif i == 0 and j == 2:\n",
    "                    exchange_rates[i][j] = exchange_rate_1_3\n",
    "                elif i == 0 and j == 3:\n",
    "                    exchange_rates[i][j] = exchange_rate_1_4\n",
    "                elif i == 0 and j == 4:\n",
    "                    exchange_rates[i][j] = exchange_rate_1_5\n",
    "                elif i == 1 and j == 2:\n",
    "                    exchange_rates[i][j] = exchange_rate_2_3\n",
    "                elif i == 1 and j == 3:\n",
    "                    exchange_rates[i][j] = exchange_rate_2_4\n",
    "                elif i == 1 and j == 4:\n",
    "                    exchange_rates[i][j] = exchange_rate_2_5\n",
    "                elif i == 2 and j == 3:\n",
    "                    exchange_rates[i][j] = exchange_rate_3_4\n",
    "                elif i == 2 and j == 4:\n",
    "                    exchange_rates[i][j] = exchange_rate_3_5\n",
    "                elif i == 3 and j == 4:\n",
    "                    exchange_rates[i][j] = exchange_rate_4_5\n",
    "                else:\n",
    "                    # For reverse exchange rates (j to i), set as reciprocal\n",
    "                    exchange_rates[i][j] = 1 / exchange_rates[j][i]\n",
    "\n",
    "    transactions = np.zeros((n,5))\n",
    "\n",
    "    for i in range(n):\n",
    "\n",
    "        currency = random.randint(0,4)\n",
    "        remaining_numbers = [x for x in range(5) if x!= currency]\n",
    "        counter_currency = random.choice(remaining_numbers)\n",
    "\n",
    "        buy_or_sell = random.randint(0,1)\n",
    "\n",
    "        # buy_or_sell = 1 <=> we buy the currency\n",
    "        # buy_or_sell = 0 <=> we sell the currency\n",
    "        \n",
    "        if buy_or_sell == 0:\n",
    "            transactions[i,currency] = random.randint(5,10)\n",
    "            transactions[i, counter_currency] = -transactions[i,currency]*exchange_rates[currency][counter_currency]\n",
    "        elif buy_or_sell == 1:\n",
    "            transactions[i,currency] = random.randint(-10,-5)\n",
    "            transactions[i, counter_currency] = transactions[i,currency]*exchange_rates[currency][counter_currency]*(-1)\n",
    "\n",
    "\n",
    "    positions = np.vstack([baseline, transactions])\n",
    "\n",
    "    #print(positions)\n",
    "\n",
    "    return positions"
   ]
  },
  {
   "cell_type": "markdown",
   "metadata": {},
   "source": [
    "#### **Step 3**: Define Settlement Risk function\n",
    "---"
   ]
  },
  {
   "cell_type": "code",
   "execution_count": 11,
   "metadata": {},
   "outputs": [],
   "source": [
    "def SettlementRisk(position):\n",
    "    return np.sum(np.maximum(0,position))"
   ]
  },
  {
   "cell_type": "markdown",
   "metadata": {},
   "source": [
    "#### **Step 4:** Define our strategies\n",
    "---"
   ]
  },
  {
   "cell_type": "code",
   "execution_count": 12,
   "metadata": {},
   "outputs": [],
   "source": [
    "def MLC_Approach(positions):\n",
    "\n",
    "    bf_list = []\n",
    "    total_position = np.zeros((1,5))\n",
    "    \n",
    "    \n",
    "    total_position = np.vstack([total_position, positions[0,:]])\n",
    "    total = SettlementRisk(total_position)\n",
    "    bf_list.append(total)\n",
    "\n",
    "    for i in range(positions.shape[0]-1):\n",
    "        total_position = np.vstack([total_position, positions[i+1,:]])\n",
    "\n",
    "        temp =  np.sum(total_position, axis=0)\n",
    "        total = SettlementRisk(temp)\n",
    "        bf_list.append(total)\n",
    "    \n",
    "    #total_position = np.sum(positions, axis=0)\n",
    "\n",
    "    return [SettlementRisk(total), bf_list]\n",
    "\n",
    "\n",
    "def Linearisation(positions):\n",
    "\n",
    "    lin_list = []\n",
    "    baseline = positions[0,:]\n",
    "\n",
    "    baseline_exposure = SettlementRisk(baseline)\n",
    "\n",
    "    total = baseline_exposure\n",
    "    lin_list.append(total)\n",
    "\n",
    "    for i in range(positions.shape[0]-1):\n",
    "        decoupled = np.vstack([baseline, positions[i+1,:]])\n",
    "        decoupled = np.sum(decoupled, axis=0)\n",
    "                \n",
    "        decoupled_exposure = SettlementRisk(decoupled)\n",
    "        total += decoupled_exposure - baseline_exposure\n",
    "        lin_list.append(total)\n",
    "\n",
    "    return [total, lin_list]\n",
    "\n",
    "def Conservative(positions):\n",
    "\n",
    "    total = 0\n",
    "    cons_list = []\n",
    "    for i in range(positions.shape[0]):\n",
    "\n",
    "        total += SettlementRisk(positions[i,:])\n",
    "        cons_list.append(total)\n",
    "\n",
    "    return [total, cons_list]\n",
    "\n",
    "def Averages(positions):\n",
    "    avg_list = []\n",
    "    baseline = positions[0,:]\n",
    "    n = positions.shape[0]-1\n",
    "    baseline_exposure = SettlementRisk(baseline)\n",
    "\n",
    "    total = baseline_exposure\n",
    "    avg_list.append(total)\n",
    "\n",
    "    for i in range(positions.shape[0]-1):\n",
    "\n",
    "        decoupled = np.vstack([baseline, positions[i+1,:]])\n",
    "        decoupled[1] *= n\n",
    "        decoupled = np.sum(decoupled, axis=0)\n",
    "        decoupled_exposure = SettlementRisk(decoupled)\n",
    "        total += 1/n*(decoupled_exposure - baseline_exposure)\n",
    "        avg_list.append(total)\n",
    "\n",
    "    return [total, avg_list]"
   ]
  },
  {
   "cell_type": "code",
   "execution_count": 13,
   "metadata": {},
   "outputs": [
    {
     "data": {
      "text/plain": [
       "'\\ndata = np.array([[ 10., -10.,  5.,  -5.,  20. ],\\n                [ -5.,   0.,  2.5,  0.,   0.  ],\\n                [  7., -14.,  0.,   0.,   0.  ],\\n                [  0.,   0.,  6., -12.,  0.  ],\\n                [  0.,   0., 10.,  0.,  -5.  ],\\n                [  0.,   8.,  0., -10.,  0.  ]])\\n'"
      ]
     },
     "execution_count": 13,
     "metadata": {},
     "output_type": "execute_result"
    }
   ],
   "source": [
    "# Tester Dataset\n",
    "\n",
    "'''\n",
    "data = np.array([[ 10., -10.,  5.,  -5.,  20. ],\n",
    "                [ -5.,   0.,  2.5,  0.,   0.  ],\n",
    "                [  7., -14.,  0.,   0.,   0.  ],\n",
    "                [  0.,   0.,  6., -12.,  0.  ],\n",
    "                [  0.,   0., 10.,  0.,  -5.  ],\n",
    "                [  0.,   8.,  0., -10.,  0.  ]])\n",
    "'''"
   ]
  },
  {
   "cell_type": "markdown",
   "metadata": {},
   "source": [
    "#### **Step 5:** Define the simulation function\n",
    "---"
   ]
  },
  {
   "cell_type": "code",
   "execution_count": 14,
   "metadata": {},
   "outputs": [
    {
     "data": {
      "image/png": "[encoded data removed]",
      "text/plain": [
       "<Figure size 640x480 with 1 Axes>"
      ]
     },
     "metadata": {},
     "output_type": "display_data"
    },
    {
     "data": {
      "image/png": "[encoded data removed]",
      "text/plain": [
       "<Figure size 640x480 with 1 Axes>"
      ]
     },
     "metadata": {},
     "output_type": "display_data"
    },
    {
     "name": "stdout",
     "output_type": "stream",
     "text": [
      "Range of values for percentage difference: [0.0, 6.9306930693069315]\n",
      "\n",
      "\n",
      "\n",
      "\n",
      "NOTE: Positive percentage implies linearisation is working correctly (overestimating)\n",
      "      Negative percentage implies linearisation is optimistic (underestimating exposure)\n"
     ]
    }
   ],
   "source": [
    "def sim(m, baseline_min, baseline_max):\n",
    "\n",
    "    data = get_baseline_positions(m, baseline_min, baseline_max)\n",
    "\n",
    "    [total_BF, bf_list] = MLC_Approach(data)\n",
    "    [total_Linearisation, lin_list] = Linearisation(data)\n",
    "    [total_Conservative, cons_list] = Conservative(data)\n",
    "    [total_Averages, avg_list] = Averages(data)\n",
    "\n",
    "\n",
    "    x = np.linspace(0,m,m+1)\n",
    "\n",
    "    plt.figure()\n",
    "    plt.plot(x,bf_list, label=\"MLC Approach\", color= \"b\")\n",
    "    plt.plot(x,lin_list, label=\"Linearisation\", color= \"g\")\n",
    "    plt.plot(x,avg_list, label=\"Averages\", color= \"y\")\n",
    "    plt.plot(x,cons_list, label=\"Conservative\", color= \"r\")\n",
    "    plt.legend()\n",
    "    plt.grid(True)\n",
    "    plt.xlabel(\"Trade Number\")\n",
    "    plt.ylabel(\"Exposure (Settlement Risk)\")\n",
    "    plt.show()\n",
    "\n",
    "\n",
    "    diff_lin_bf = [(lin_list[i] - bf_list[i])/bf_list[i]*100 for i in range(len(lin_list))]\n",
    "    min = np.min(diff_lin_bf)\n",
    "    max = np.max(diff_lin_bf)\n",
    "\n",
    "    plt.figure()\n",
    "\n",
    "    plt.plot(x, diff_lin_bf, color=\"r\")\n",
    "    plt.xlabel(\"Trade No.\")\n",
    "    plt.ylabel(\"Percentage Difference\")\n",
    "    plt.title(\"Percentage difference between Lin. and MLC Approach\")\n",
    "    plt.grid(True)\n",
    "    plt.show()\n",
    "\n",
    "    print(\"Range of values for percentage difference: [\" + str(min) + \", \" + str(max) + \"]\")\n",
    "\n",
    "    print(\"\\n\")\n",
    "    print(\"\\n\")\n",
    "    print(\"NOTE: Positive percentage implies linearisation is working correctly (overestimating)\")\n",
    "    print(\"      Negative percentage implies linearisation is optimistic (underestimating exposure)\")\n",
    "sim(10, -100, 100)"
   ]
  },
  {
   "cell_type": "markdown",
   "metadata": {},
   "source": [
    "#### **Step 6:** INTERACTIVE GRAPH\n",
    "---"
   ]
  },
  {
   "cell_type": "code",
   "execution_count": 16,
   "metadata": {},
   "outputs": [
    {
     "data": {
      "application/vnd.jupyter.widget-view+json": {
       "model_id": "8f309ee0b7544ce1b1138178c6ace17f",
       "version_major": 2,
       "version_minor": 0
      },
      "text/plain": [
       "VBox(children=(GridBox(children=(IntSlider(value=20, description='Total No. Trades'), IntSlider(value=-50, des…"
      ]
     },
     "metadata": {},
     "output_type": "display_data"
    },
    {
     "data": {
      "application/vnd.jupyter.widget-view+json": {
       "model_id": "020e1bb05d644230a3ce34b6415f7b28",
       "version_major": 2,
       "version_minor": 0
      },
      "text/plain": [
       "Output()"
      ]
     },
     "metadata": {},
     "output_type": "display_data"
    }
   ],
   "source": [
    "# Define the sliders\n",
    "m_slider = widgets.IntSlider(min=0, max=100, step=1, value=20, description=\"Total No. Trades\")\n",
    "baseline_min_slider = widgets.IntSlider(min=-200, max=200, step=1, value=-50, description=\"Min. range of Baseline position\")\n",
    "baseline_max_slider = widgets.IntSlider(min=-200, max=200, step=1, value=50, description=\"Max. range of Baseline position\")\n",
    "\n",
    "# Preset button functionality\n",
    "def set_preset_1(b):\n",
    "    m_slider.value = 50\n",
    "    baseline_min_slider.value = -100\n",
    "    baseline_max_slider.value = -50\n",
    "\n",
    "def set_preset_2(b):\n",
    "    m_slider.value = 50\n",
    "    baseline_min_slider.value = 100\n",
    "    baseline_max_slider.value = 150\n",
    "\n",
    "def set_preset_3(b):\n",
    "    m_slider.value = 50\n",
    "    baseline_min_slider.value = -100\n",
    "    baseline_max_slider.value = 100\n",
    "\n",
    "# Create preset buttons\n",
    "preset_button_1 = widgets.Button(description=\"Negative Baseline\")\n",
    "preset_button_2 = widgets.Button(description=\"Positive Baseline\")\n",
    "preset_button_3 = widgets.Button(description=\"Mixed Baseline\")\n",
    "\n",
    "# Attach the button click events to the preset functions\n",
    "preset_button_1.on_click(set_preset_1)\n",
    "preset_button_2.on_click(set_preset_2)\n",
    "preset_button_3.on_click(set_preset_3)\n",
    "\n",
    "# Set the size of the buttons\n",
    "preset_button_1.layout = widgets.Layout(width='200px', height='40px')\n",
    "preset_button_2.layout = widgets.Layout(width='200px', height='40px')\n",
    "preset_button_3.layout = widgets.Layout(width='200px', height='40px')\n",
    "\n",
    "# Layout for sliders and buttons\n",
    "grid_layout = widgets.GridBox(\n",
    "    children=[m_slider, baseline_min_slider, baseline_max_slider],\n",
    "    layout=widgets.Layout(grid_template_columns=\"repeat(4, 300px)\", grid_gap=\"10px\")\n",
    ")\n",
    "\n",
    "button_layout = widgets.HBox([preset_button_1, preset_button_2, preset_button_3])\n",
    "\n",
    "# Create interactive output\n",
    "ui = widgets.VBox([grid_layout, button_layout])\n",
    "out = widgets.interactive_output(sim, {\n",
    "    'm': m_slider,\n",
    "    'baseline_min': baseline_min_slider,\n",
    "    'baseline_max': baseline_max_slider\n",
    "})\n",
    "\n",
    "# Display the widgets\n",
    "display(ui, out)"
   ]
  }
 ],
 "metadata": {
  "kernelspec": {
   "display_name": "Python 3",
   "language": "python",
   "name": "python3"
  },
  "language_info": {
   "codemirror_mode": {
    "name": "ipython",
    "version": 3
   },
   "file_extension": ".py",
   "mimetype": "text/x-python",
   "name": "python",
   "nbconvert_exporter": "python",
   "pygments_lexer": "ipython3",
   "version": "3.11.9"
  }
 },
 "nbformat": 4,
 "nbformat_minor": 2
}
